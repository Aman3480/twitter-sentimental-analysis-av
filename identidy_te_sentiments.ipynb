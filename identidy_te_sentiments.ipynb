{
  "nbformat": 4,
  "nbformat_minor": 0,
  "metadata": {
    "colab": {
      "name": "my name is aman singh",
      "provenance": [],
      "collapsed_sections": []
    },
    "kernelspec": {
      "name": "python3",
      "display_name": "Python 3"
    }
  },
  "cells": [
    {
      "cell_type": "code",
      "metadata": {
        "id": "-qMDiBXiwaqL",
        "colab_type": "code",
        "outputId": "edc158a3-33df-477d-f7d1-2ddea057b7dd",
        "colab": {
          "base_uri": "https://localhost:8080/",
          "height": 35
        }
      },
      "source": [
        "from google.colab import drive\n",
        "drive.mount('/content/drive')"
      ],
      "execution_count": 0,
      "outputs": [
        {
          "output_type": "stream",
          "text": [
            "Drive already mounted at /content/drive; to attempt to forcibly remount, call drive.mount(\"/content/drive\", force_remount=True).\n"
          ],
          "name": "stdout"
        }
      ]
    },
    {
      "cell_type": "code",
      "metadata": {
        "id": "dcZujLPM1H2s",
        "colab_type": "code",
        "outputId": "90d095cb-e014-42b5-d277-6d47a0575da3",
        "colab": {
          "base_uri": "https://localhost:8080/",
          "height": 144
        }
      },
      "source": [
        "import pandas as pd\n",
        "import numpy as np\n",
        "from nltk.corpus import stopwords\n",
        "from nltk.stem import WordNetLemmatizer\n",
        "from nltk import word_tokenize\n",
        "import re\n",
        "from sklearn.feature_extraction.text import CountVectorizer ,TfidfVectorizer\n",
        "from sklearn.metrics import f1_score\n",
        "from sklearn.model_selection import cross_val_score,train_test_split\n",
        "import nltk\n",
        "\n",
        "\n",
        "nltk.download('stopwords')\n",
        "nltk.download('punkt')\n",
        "nltk.download('wordnet')"
      ],
      "execution_count": 3,
      "outputs": [
        {
          "output_type": "stream",
          "text": [
            "[nltk_data] Downloading package stopwords to /root/nltk_data...\n",
            "[nltk_data]   Package stopwords is already up-to-date!\n",
            "[nltk_data] Downloading package punkt to /root/nltk_data...\n",
            "[nltk_data]   Package punkt is already up-to-date!\n",
            "[nltk_data] Downloading package wordnet to /root/nltk_data...\n",
            "[nltk_data]   Package wordnet is already up-to-date!\n"
          ],
          "name": "stdout"
        },
        {
          "output_type": "execute_result",
          "data": {
            "text/plain": [
              "True"
            ]
          },
          "metadata": {
            "tags": []
          },
          "execution_count": 3
        }
      ]
    },
    {
      "cell_type": "code",
      "metadata": {
        "id": "alL40zWV0Nqj",
        "colab_type": "code",
        "outputId": "afe3662a-9424-420c-e242-c145f17351f1",
        "colab": {
          "base_uri": "https://localhost:8080/",
          "height": 235
        }
      },
      "source": [
        "df_test=pd.read_csv(\"/content/drive/My Drive/Colab Notebooks/avp/test_oJQbWVk.csv\")\n",
        "df_train=pd.read_csv('/content/drive/My Drive/Colab Notebooks/avp/train_2kmZucJ.csv')\n",
        "print(df_test.head())\n",
        "print(df_train.head())"
      ],
      "execution_count": 4,
      "outputs": [
        {
          "output_type": "stream",
          "text": [
            "     id                                              tweet\n",
            "0  7921  I hate the new #iphone upgrade. Won't let me d...\n",
            "1  7922  currently shitting my fucking pants. #apple #i...\n",
            "2  7923  I'd like to puts some CD-ROMS on my iPad, is t...\n",
            "3  7924  My ipod is officially dead. I lost all my pict...\n",
            "4  7925  Been fighting iTunes all night! I only want th...\n",
            "   id  label                                              tweet\n",
            "0   1      0  #fingerprint #Pregnancy Test https://goo.gl/h1...\n",
            "1   2      0  Finally a transparant silicon case ^^ Thanks t...\n",
            "2   3      0  We love this! Would you go? #talk #makememorie...\n",
            "3   4      0  I'm wired I know I'm George I was made that wa...\n",
            "4   5      1  What amazing service! Apple won't even talk to...\n"
          ],
          "name": "stdout"
        }
      ]
    },
    {
      "cell_type": "code",
      "metadata": {
        "id": "0XuXg86k4TO7",
        "colab_type": "code",
        "colab": {}
      },
      "source": [
        "stop_words=set(stopwords.words(\"english\"))\n",
        "stop_words=[x.lower() for x in stop_words]\n",
        "lemma=WordNetLemmatizer()\n",
        "\n",
        "shortcuts = {'u': 'you', 'y': 'why', 'r': 'are', 'doin': 'doing', 'hw': 'how', 'k': 'okay', 'm': 'am', 'b4': 'before',\n",
        "            'idc': \"i do not care\", 'ty': 'thankyou', 'wlcm': 'welcome', 'bc': 'because', '<3': 'love', 'xoxo': 'love',\n",
        "            'ttyl': 'talk to you later', 'gr8': 'great', 'bday': 'birthday', 'awsm': 'awesome', 'gud': 'good', 'h8': 'hate',\n",
        "            'lv': 'love', 'dm': 'direct message', 'rt': 'retweet', 'wtf': 'hate', 'idgaf': 'hate',\n",
        "             'irl': 'in real life', 'yolo': 'you only live once'}\n"
      ],
      "execution_count": 0,
      "outputs": []
    },
    {
      "cell_type": "code",
      "metadata": {
        "id": "ua0REV64BBgl",
        "colab_type": "code",
        "colab": {}
      },
      "source": [
        "def clean(text):\n",
        "    text=text.lower() #conversion to lower\n",
        "    text=re.sub(r'http\\S+', '', text)\n",
        "    text=re.sub('\\W+',' ',text) #extracting only words contain alphabets\n",
        "    dist = nltk.FreqDist(text)\n",
        "    text=word_tokenize(text)# break into words\n",
        "\n",
        "    emp=[]\n",
        "\n",
        "    for word in text:\n",
        "        if word in shortcuts.keys():# removing shoertcuts\n",
        "            word=shortcuts[word]\n",
        "        emp.append(word)\n",
        "\n",
        "    text=emp\n",
        "\n",
        "    text=[re.sub('\\d+','',word) for word in text] #replacing integer with nothing\n",
        "\n",
        "    text=[ word for word in text if len(word)>2] #removing words of lngth <=2\n",
        "    text=[word for word in text if word not in stop_words] #remove stopwards\n",
        "    text=' '.join(lemma.lemmatize(word) for word in text)  #convertig again list of words to sentence\n",
        "    text=text.replace('  ',\" \")\n",
        "    return text\n"
      ],
      "execution_count": 0,
      "outputs": []
    },
    {
      "cell_type": "code",
      "metadata": {
        "id": "qfaK4onVJGum",
        "colab_type": "code",
        "colab": {}
      },
      "source": [
        "X_train=df_train[\"tweet\"].apply(lambda x:clean(x))\n",
        "X_test=df_test[\"tweet\"].apply(lambda x:clean(x))\n",
        "y_train=df_train['label']"
      ],
      "execution_count": 0,
      "outputs": []
    },
    {
      "cell_type": "code",
      "metadata": {
        "id": "q4v3Umut6AHK",
        "colab_type": "code",
        "colab": {}
      },
      "source": [
        "def cross_val(X,Y,model):\n",
        "    all_accuracies = cross_val_score(estimator=model, X=X, y=Y, cv=6)\n",
        "    return (all_accuracies.mean())"
      ],
      "execution_count": 0,
      "outputs": []
    },
    {
      "cell_type": "code",
      "metadata": {
        "id": "UDsKAPXQsYKa",
        "colab_type": "code",
        "colab": {}
      },
      "source": [
        "vect=TfidfVectorizer(min_df=5).fit(X_train)\n",
        "X_train_vect=vect.transform(X_train)\n",
        "X_test_vect=vect.transform(X_test)\n"
      ],
      "execution_count": 0,
      "outputs": []
    },
    {
      "cell_type": "code",
      "metadata": {
        "id": "fceXk3E48rY5",
        "colab_type": "code",
        "colab": {}
      },
      "source": [
        "#some feature engennering\n",
        "\n",
        "import scipy as sp\n",
        "ans1=np.zeros([len(X_train),1])\n",
        "ans2=np.zeros([len(X_test),1])\n",
        "for i in range (0,len(X_train)):\n",
        "    ans1[i]=len(X_train[i])\n",
        "\n",
        "for i in range (0,len(X_test)):\n",
        "    ans2[i]=len(X_train[i])\n",
        "\n",
        "#X_train_vect=sp.sparse.hstack((X_train_vect, ans1),'csr')\n",
        "#X_test_vect=sp.sparse.hstack((X_test_vect, ans2),'csr')"
      ],
      "execution_count": 0,
      "outputs": []
    },
    {
      "cell_type": "code",
      "metadata": {
        "id": "I_I0fm7UbrOM",
        "colab_type": "code",
        "colab": {}
      },
      "source": [
        "from sklearn.linear_model import LogisticRegression\n",
        "\n",
        "model = LogisticRegression(C=2)\n",
        "model.fit(X_train_vect, y_train)\n",
        "pred=model.predict(X_test_vect)\n",
        "pred=pd.Series(pred)\n",
        "df=pd.DataFrame()\n",
        "df[\"label\"]=pred\n",
        "df[\"id\"]=df_test[\"id\"]\n",
        "df.to_csv(\"/content/drive/My Drive/Colab Notebooks/avp/subbmission.csv\",index=False)\n"
      ],
      "execution_count": 0,
      "outputs": []
    },
    {
      "cell_type": "code",
      "metadata": {
        "id": "hN75jLwLssHD",
        "colab_type": "code",
        "colab": {
          "base_uri": "https://localhost:8080/",
          "height": 35
        },
        "outputId": "b5d781dc-09d8-4419-c8e0-dc125fbe6cb5"
      },
      "source": [
        "cross_val(X_train_vect,y_train,model)"
      ],
      "execution_count": 128,
      "outputs": [
        {
          "output_type": "execute_result",
          "data": {
            "text/plain": [
              "0.8829545454545454"
            ]
          },
          "metadata": {
            "tags": []
          },
          "execution_count": 128
        }
      ]
    },
    {
      "cell_type": "code",
      "metadata": {
        "id": "QfONRXYsO8cP",
        "colab_type": "code",
        "colab": {}
      },
      "source": [
        ""
      ],
      "execution_count": 0,
      "outputs": []
    }
  ]
}

print("my name si aman singh")
